{
 "cells": [
  {
   "cell_type": "markdown",
   "id": "2b4d581c",
   "metadata": {},
   "source": [
    "# Boolean chechZeros(int[]numberlist) check if the array numberlist has one and only one zero in it.only use a single  for loop.assume there are n numbers in the array"
   ]
  },
  {
   "cell_type": "code",
   "execution_count": null,
   "id": "ff131ef3",
   "metadata": {},
   "outputs": [],
   "source": [
    "array=[0,2,3,4]\n",
    "count=0\n",
    "for i in array:\n",
    "    if i==0:\n",
    "        count+=1\n",
    "if count==1:\n",
    "    print(\"there is only one zero\")\n",
    "else:\n",
    "    print(\"there is more zeros or there is no zeros\")"
   ]
  },
  {
   "cell_type": "markdown",
   "id": "861f2e9c",
   "metadata": {},
   "source": [
    "# 2.int[]sort(int numberlist) use any sorting algorithm to sort array number list"
   ]
  },
  {
   "cell_type": "code",
   "execution_count": null,
   "id": "72d36f57",
   "metadata": {},
   "outputs": [],
   "source": [
    "number_list=[2,4,54,12,19,56]\n",
    "\n",
    "number_list.sort()\n",
    "print(number_list)"
   ]
  },
  {
   "cell_type": "code",
   "execution_count": null,
   "id": "b78a457b",
   "metadata": {},
   "outputs": [],
   "source": [
    "num_list=[2,4,54,12,19,56]\n",
    "\n",
    "for i in range(0,len(num_list)):\n",
    "    for j in range(i+1,len(num_list)):\n",
    "        if(num_list[i]>num_list[j]):\n",
    "            num_list[i],num_list[j]=[num_list[j],num_list[i]]\n",
    "print(num_list)"
   ]
  },
  {
   "cell_type": "markdown",
   "id": "11406277",
   "metadata": {},
   "source": [
    "# 3. string replaceSpace(char[]sentence) Replace every space in the string sentence with \"--\"nd return the string.Eg:if the senetence is \"I am a doctor\",you need to return \"I--am--a--doctor\".# "
   ]
  },
  {
   "cell_type": "code",
   "execution_count": null,
   "id": "7069b351",
   "metadata": {},
   "outputs": [],
   "source": [
    "string=\"I am a doctor\"\n",
    "for i in string:\n",
    "    for j in i:\n",
    "        if j==\" \":\n",
    "            print(\"--\",end=\"\")\n",
    "        else:\n",
    "            print(j,end=\"\")"
   ]
  },
  {
   "cell_type": "code",
   "execution_count": null,
   "id": "3f3b8a37",
   "metadata": {},
   "outputs": [],
   "source": [
    "string=\"I am a doctor\"\n",
    "a=string.replace(\" \",\"--\")\n",
    "print(a)"
   ]
  },
  {
   "cell_type": "markdown",
   "id": "26739350",
   "metadata": {},
   "source": [
    "# 4.Boolean checkUnique(char[]word) check if all characters in the string are unique Eg:mobile-true,because all characters in the string word are unique calculator_false,because c,I and a repeat multiple times."
   ]
  },
  {
   "cell_type": "code",
   "execution_count": null,
   "id": "84bcb924",
   "metadata": {},
   "outputs": [],
   "source": [
    "string=input(\"enter the string:\")\n",
    "count={}\n",
    "for i in string:\n",
    "    if i in count:\n",
    "        count[i]+=1\n",
    "    else:\n",
    "        count[i]=1\n",
    "print(count)\n",
    "count1=count.values()\n",
    "print(count1)\n",
    "for j in count1:\n",
    "    if j>1:\n",
    "        print(\"false\")\n",
    "        break\n",
    "else:\n",
    "    print(\"true\")"
   ]
  },
  {
   "cell_type": "markdown",
   "id": "494c4b20",
   "metadata": {},
   "source": [
    "# 5.int search(int[]a,int number)search for the number in array.if found,return its position/index.Assume there are n numbers in the array.¶"
   ]
  },
  {
   "cell_type": "code",
   "execution_count": null,
   "id": "8b143d28",
   "metadata": {},
   "outputs": [],
   "source": [
    "array2=input(\"enter the numbers: \").split(\",\")\n",
    "s_no=input(\"which number you want to search\")\n",
    "for i in range(len(array2)):\n",
    "    if array2[i]==s_no:\n",
    "        print(\"the position of  \",array2[i],\"is\",i)"
   ]
  },
  {
   "cell_type": "markdown",
   "id": "868480f2",
   "metadata": {},
   "source": [
    "# 6.int swap(int a,int b) swap two numbers without using a third number"
   ]
  },
  {
   "cell_type": "code",
   "execution_count": null,
   "id": "895628ea",
   "metadata": {},
   "outputs": [],
   "source": [
    "num1=20\n",
    "num2=30\n",
    "num1,num2=num2,num1\n",
    "print(\"The value of num1 after swapping:\",num1)\n",
    "print(\"The value of num2 after swapping:\",num2)"
   ]
  },
  {
   "cell_type": "markdown",
   "id": "101c010e",
   "metadata": {},
   "source": [
    "# 7.int[] find mismatch(int[]a,int[]b) if an array a is [1,2,4,32,12,6,8]and b is[2,6,10,12,1417]return or print the number which is present in a not in b\n",
    "a=[1,2,4,32,12,6,8]"
   ]
  },
  {
   "cell_type": "code",
   "execution_count": null,
   "id": "6bba4885",
   "metadata": {},
   "outputs": [],
   "source": [
    "a=[1,2,4,32,12,6,8]\n",
    "b=[2,6,10,12,1417]\n",
    "mismatch_no=[]\n",
    "for i in a:\n",
    "    if i not in b:\n",
    "        mismatch_no.append(i)\n",
    "print(mismatch_no)        "
   ]
  },
  {
   "cell_type": "markdown",
   "id": "06e56af6",
   "metadata": {},
   "source": [
    "# 8.int findsmallorbig(int[]a) if an array is a=[1,2,4,32,12,6,8] the biggest number is 32 and the smallest number is 1"
   ]
  },
  {
   "cell_type": "code",
   "execution_count": null,
   "id": "8f2ef5cf",
   "metadata": {},
   "outputs": [],
   "source": [
    "a=[1,2,4,32,12,6,8]\n",
    "big_no=a[0]\n",
    "small_no=a[0]\n",
    "for i in a:\n",
    "    if big_no<i :\n",
    "        big_no=i\n",
    "    if small_no>i:\n",
    "        small_no=i\n",
    "print(\"biggest number is:\",big_no)        \n",
    "print(\"smallest number is:\",small_no)\n",
    "    "
   ]
  },
  {
   "cell_type": "markdown",
   "id": "a5f3962d",
   "metadata": {},
   "source": [
    "# 9. Boolean checkwrongorwrite(char[]a) check whether the string contains more or equal to three vowels(a,e,i,o,u)if yes then the string is false,else true."
   ]
  },
  {
   "cell_type": "code",
   "execution_count": null,
   "id": "a146feed",
   "metadata": {},
   "outputs": [],
   "source": [
    "string=input(\"enter the string:\")\n",
    "vowel=(\"a\",\"e\",\"i\",\"o\",\"u\")\n",
    "count=0\n",
    "for i in string:\n",
    "    if i in vowel:\n",
    "        count+=1\n",
    "        if count>=3:\n",
    "            print(\"false\")\n",
    "            break\n",
    "            \n",
    "else:\n",
    "    print(\"true\")\n",
    "        "
   ]
  },
  {
   "cell_type": "markdown",
   "id": "d8d01413",
   "metadata": {},
   "source": [
    "# 10.string removeDuplicate(char[]a) remove duplicate character from the string and return a new string with no duplicates character for eg:if the string is \"calculator\"return string as 'utor'"
   ]
  },
  {
   "cell_type": "code",
   "execution_count": 1,
   "id": "c5692baf",
   "metadata": {},
   "outputs": [
    {
     "name": "stdout",
     "output_type": "stream",
     "text": [
      "enter the string:calculator\n",
      " utor\n"
     ]
    }
   ],
   "source": [
    "string=input(\"enter the string:\")\n",
    "duplicates=\" \"\n",
    "\n",
    "for i in string:\n",
    "    if string.count(i)==1:\n",
    "        duplicates+=i\n",
    "print(duplicates)\n",
    "       "
   ]
  },
  {
   "cell_type": "code",
   "execution_count": null,
   "id": "1ae99319",
   "metadata": {},
   "outputs": [],
   "source": []
  }
 ],
 "metadata": {
  "kernelspec": {
   "display_name": "Python 3 (ipykernel)",
   "language": "python",
   "name": "python3"
  },
  "language_info": {
   "codemirror_mode": {
    "name": "ipython",
    "version": 3
   },
   "file_extension": ".py",
   "mimetype": "text/x-python",
   "name": "python",
   "nbconvert_exporter": "python",
   "pygments_lexer": "ipython3",
   "version": "3.9.13"
  }
 },
 "nbformat": 4,
 "nbformat_minor": 5
}
